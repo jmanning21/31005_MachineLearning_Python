{
  "nbformat": 4,
  "nbformat_minor": 0,
  "metadata": {
    "colab": {
      "name": "Machine Learning Assignment 2.ipynb",
      "provenance": [],
      "collapsed_sections": [],
      "include_colab_link": true
    },
    "kernelspec": {
      "name": "python3",
      "display_name": "Python 3"
    }
  },
  "cells": [
    {
      "cell_type": "markdown",
      "metadata": {
        "id": "view-in-github",
        "colab_type": "text"
      },
      "source": [
        "<a href=\"https://colab.research.google.com/github/jmanning21/31005_MachineLearning_Python/blob/master/Machine_Learning_Assignment_2.ipynb\" target=\"_parent\"><img src=\"https://colab.research.google.com/assets/colab-badge.svg\" alt=\"Open In Colab\"/></a>"
      ]
    },
    {
      "cell_type": "markdown",
      "metadata": {
        "id": "YxDh23ZzhcyU",
        "colab_type": "text"
      },
      "source": [
        "#Assignment 2: Practical Machine Learning Project\n",
        "####Affnan Amir (13528841) and Julia Manning (12875795)"
      ]
    },
    {
      "cell_type": "markdown",
      "metadata": {
        "id": "BjezS5t_-Gzl",
        "colab_type": "text"
      },
      "source": [
        "###Introduction\n",
        "The algorithm chosen for this project is the ID3 Decision Tree building algorithm. In using this alrogithm, the data  \n",
        "\n",
        "* Input = \n",
        "* Output = "
      ]
    },
    {
      "cell_type": "markdown",
      "metadata": {
        "id": "OqiTYMTfEyE7",
        "colab_type": "text"
      },
      "source": [
        "###Exploration\n",
        "\n",
        "Challenges:\n",
        " - over-fitting the data"
      ]
    },
    {
      "cell_type": "markdown",
      "metadata": {
        "id": "XBDy0_3aE2so",
        "colab_type": "text"
      },
      "source": [
        "###Methodology"
      ]
    },
    {
      "cell_type": "code",
      "metadata": {
        "id": "q_GJFfN7QGa_",
        "colab_type": "code",
        "colab": {}
      },
      "source": [
        "# Importing the required packages\n",
        "import os\n",
        "import numpy as np\n",
        "import pandas as pd\n",
        "from sklearn import tree, metrics\n",
        "from sklearn.model_selection import train_test_split\n",
        "import matplotlib.pyplot as plt"
      ],
      "execution_count": 0,
      "outputs": []
    },
    {
      "cell_type": "code",
      "metadata": {
        "id": "x4CofyopSsOm",
        "colab_type": "code",
        "colab": {}
      },
      "source": [
        "# Importing the dataset from a url\n",
        "url = \"https://raw.githubusercontent.com/datasciencedojo/datasets/master/titanic.csv\"\n",
        "\n",
        "# Read the csv and convert to a dataframe\n",
        "d = pd.read_csv(url)\n",
        "df = pd.DataFrame(data=d)\n",
        "\n",
        "# See the first six rows of the dataset\n",
        "df.head(6)"
      ],
      "execution_count": 0,
      "outputs": []
    },
    {
      "cell_type": "code",
      "metadata": {
        "id": "f3Mfq1ipUo65",
        "colab_type": "code",
        "colab": {}
      },
      "source": [
        "# Cleaning some of the attributes: replace null values with median values\n",
        "# Replacing NA values in age with the median age of each sex\n",
        "median_values = df.groupby('Sex')['Age'].transform('median')\n",
        "df['Age'].fillna(median_values, inplace=True)\n",
        "df.head(6) # see the first 6 rows to see if the NA value was replaced in Ln 6"
      ],
      "execution_count": 0,
      "outputs": []
    },
    {
      "cell_type": "code",
      "metadata": {
        "id": "eaDbdlQLsSFj",
        "colab_type": "code",
        "colab": {}
      },
      "source": [
        "# Check the information about the dataset\n",
        "df.info()\n",
        "# There are no missing values in the dataset"
      ],
      "execution_count": 0,
      "outputs": []
    },
    {
      "cell_type": "code",
      "metadata": {
        "id": "3UAtAW8Ynitk",
        "colab_type": "code",
        "colab": {}
      },
      "source": [
        "# Identify the target variable\n",
        "df['Survived'],class_names = pd.factorize(df['Survived'])\n",
        "\n",
        "print(class_names)\n",
        "print(df['Survived'].unique())\n",
        "\n",
        "# The algorithm requires the target variable to be in integer format, which it already is. \n",
        "# Therefore no data type changes need to be made."
      ],
      "execution_count": 0,
      "outputs": []
    },
    {
      "cell_type": "code",
      "metadata": {
        "id": "Z_OqwSbp2Ksy",
        "colab_type": "code",
        "colab": {}
      },
      "source": [
        "# Adding and removing specific columns which may help with the accuracy of the accuracy.\n",
        "# Add a Child.Adult column based on the age of the individual\n",
        "df['Child.Adult'] = 'Adult'\n",
        "\n",
        "# Child = Age < 13 and Adult = Age >= 13 \n",
        "df['Child.Adult'][df['Age'] < 13.0] = 'Child'\n",
        "\n",
        "# Remove 'Name' column as it does not provide any relevant information to the dataset, as all the values are unique\n",
        "del df['Name']\n",
        "# Remove 'Cabin' as there are too many NA values and the remaining values are all unique, make it impossible to determine a suitable replacement for the NA values\n",
        "del df['Cabin']"
      ],
      "execution_count": 0,
      "outputs": []
    },
    {
      "cell_type": "code",
      "metadata": {
        "id": "SIFwjwXoub5S",
        "colab_type": "code",
        "colab": {}
      },
      "source": [
        "# Identifying the predictor variables and encode any string variables to their equivalent integer formats\n",
        "df['Sex'],_ = pd.factorize(df['Sex'])\n",
        "df['Embarked'],_ = pd.factorize(df['Embarked'])\n",
        "df['Child.Adult'],_ = pd.factorize(df['Child.Adult'])\n",
        "df['Ticket'],_ = pd.factorize(df['Ticket'])\n",
        "\n",
        "df.head(10)"
      ],
      "execution_count": 0,
      "outputs": []
    },
    {
      "cell_type": "code",
      "metadata": {
        "id": "kjE-8XBlyh6r",
        "colab_type": "code",
        "colab": {}
      },
      "source": [
        "# Re-ordering the columns to put the 'Survived' column last\n",
        "df = df[['PassengerId','Pclass','Sex','Age','SibSp','Parch','Ticket','Fare','Embarked','Child.Adult','Survived']]\n",
        "df.head(6)"
      ],
      "execution_count": 0,
      "outputs": []
    },
    {
      "cell_type": "code",
      "metadata": {
        "id": "yCxHtlc17Dbk",
        "colab_type": "code",
        "colab": {}
      },
      "source": [
        "# Selecting the predictor feature and target variable\n",
        "X = df.iloc[:,:-1]\n",
        "y = df.iloc[:,-1]"
      ],
      "execution_count": 0,
      "outputs": []
    },
    {
      "cell_type": "code",
      "metadata": {
        "id": "8NeRC-Gp7Rw-",
        "colab_type": "code",
        "colab": {}
      },
      "source": [
        "# split data randomly into 60% training and 40% test\n",
        "train_data_split = 0.6 #@param {type:\"number\", min:0.01, max:0.99}\n",
        "test_data_split = 1 - train_data_split\n",
        "X_train, X_test, y_train, y_test = train_test_split(X, y, test_size=test_data_split, random_state=0)"
      ],
      "execution_count": 0,
      "outputs": []
    },
    {
      "cell_type": "code",
      "metadata": {
        "id": "AyPvRDAFpDw5",
        "colab_type": "code",
        "outputId": "dc713f5f-aae1-4421-e180-21d76e253e18",
        "colab": {
          "base_uri": "https://localhost:8080/",
          "height": 119
        }
      },
      "source": [
        "# training/model fitting\n",
        "# train the decision tree\n",
        "dtree = tree.DecisionTreeClassifier(criterion = 'gini', max_depth = 5, random_state = 0)\n",
        "dtree.fit(X_train, y_train)"
      ],
      "execution_count": 0,
      "outputs": [
        {
          "output_type": "execute_result",
          "data": {
            "text/plain": [
              "DecisionTreeClassifier(class_weight=None, criterion='gini', max_depth=5,\n",
              "                       max_features=None, max_leaf_nodes=None,\n",
              "                       min_impurity_decrease=0.0, min_impurity_split=None,\n",
              "                       min_samples_leaf=1, min_samples_split=2,\n",
              "                       min_weight_fraction_leaf=0.0, presort=False,\n",
              "                       random_state=0, splitter='best')"
            ]
          },
          "metadata": {
            "tags": []
          },
          "execution_count": 69
        }
      ]
    },
    {
      "cell_type": "code",
      "metadata": {
        "id": "5rKFJy-Mpz5T",
        "colab_type": "code",
        "outputId": "c7d53958-9711-4f9b-d3b2-e001ff294f4d",
        "colab": {
          "base_uri": "https://localhost:8080/",
          "height": 51
        }
      },
      "source": [
        "# use model to make predictions with \n",
        "y_pred = dtree.predict(X_test)\n",
        "\n",
        "# see how good the model performs\n",
        "misclassified_count = (y_test != y_pred).sum()\n",
        "print('Misclassified samples: {}'.format(misclassified_count))\n",
        "accuracy = metrics.accuracy_score(y_test,y_pred)\n",
        "print('Accuracy: {:.4f}'.format(accuracy))"
      ],
      "execution_count": 0,
      "outputs": [
        {
          "output_type": "stream",
          "text": [
            "Misclassified samples: 77\n",
            "Accuracy: 0.7843\n"
          ],
          "name": "stdout"
        }
      ]
    },
    {
      "cell_type": "markdown",
      "metadata": {
        "id": "U5b_yI15si8f",
        "colab_type": "text"
      },
      "source": [
        "###Alternate way"
      ]
    },
    {
      "cell_type": "code",
      "metadata": {
        "id": "CN1ZCy7rspT_",
        "colab_type": "code",
        "colab": {}
      },
      "source": [
        "import numpy as np \n",
        "import pandas as pd \n",
        "from sklearn.metrics import confusion_matrix \n",
        "from sklearn.model_selection import train_test_split\n",
        "from sklearn.tree import DecisionTreeClassifier \n",
        "from sklearn.metrics import accuracy_score \n",
        "from sklearn.metrics import classification_report "
      ],
      "execution_count": 0,
      "outputs": []
    },
    {
      "cell_type": "code",
      "metadata": {
        "id": "FPfS2i6js174",
        "colab_type": "code",
        "colab": {
          "base_uri": "https://localhost:8080/",
          "height": 234
        },
        "outputId": "c2e1650d-b90f-40c1-9ab1-4cd075e51f24"
      },
      "source": [
        "# importing the dataset from a url\n",
        "url = \"https://raw.githubusercontent.com/datasciencedojo/datasets/master/titanic.csv\"\n",
        "\n",
        "# Read the csv and convert to a dataframe\n",
        "d = pd.read_csv(url)\n",
        "data = pd.DataFrame(d)\n",
        "\n",
        "# See the first six rows of the dataset\n",
        "data.head(6)"
      ],
      "execution_count": 5,
      "outputs": [
        {
          "output_type": "execute_result",
          "data": {
            "text/html": [
              "<div>\n",
              "<style scoped>\n",
              "    .dataframe tbody tr th:only-of-type {\n",
              "        vertical-align: middle;\n",
              "    }\n",
              "\n",
              "    .dataframe tbody tr th {\n",
              "        vertical-align: top;\n",
              "    }\n",
              "\n",
              "    .dataframe thead th {\n",
              "        text-align: right;\n",
              "    }\n",
              "</style>\n",
              "<table border=\"1\" class=\"dataframe\">\n",
              "  <thead>\n",
              "    <tr style=\"text-align: right;\">\n",
              "      <th></th>\n",
              "      <th>PassengerId</th>\n",
              "      <th>Survived</th>\n",
              "      <th>Pclass</th>\n",
              "      <th>Name</th>\n",
              "      <th>Sex</th>\n",
              "      <th>Age</th>\n",
              "      <th>SibSp</th>\n",
              "      <th>Parch</th>\n",
              "      <th>Ticket</th>\n",
              "      <th>Fare</th>\n",
              "      <th>Cabin</th>\n",
              "      <th>Embarked</th>\n",
              "    </tr>\n",
              "  </thead>\n",
              "  <tbody>\n",
              "    <tr>\n",
              "      <th>0</th>\n",
              "      <td>1</td>\n",
              "      <td>0</td>\n",
              "      <td>3</td>\n",
              "      <td>Braund, Mr. Owen Harris</td>\n",
              "      <td>male</td>\n",
              "      <td>22.0</td>\n",
              "      <td>1</td>\n",
              "      <td>0</td>\n",
              "      <td>A/5 21171</td>\n",
              "      <td>7.2500</td>\n",
              "      <td>NaN</td>\n",
              "      <td>S</td>\n",
              "    </tr>\n",
              "    <tr>\n",
              "      <th>1</th>\n",
              "      <td>2</td>\n",
              "      <td>1</td>\n",
              "      <td>1</td>\n",
              "      <td>Cumings, Mrs. John Bradley (Florence Briggs Th...</td>\n",
              "      <td>female</td>\n",
              "      <td>38.0</td>\n",
              "      <td>1</td>\n",
              "      <td>0</td>\n",
              "      <td>PC 17599</td>\n",
              "      <td>71.2833</td>\n",
              "      <td>C85</td>\n",
              "      <td>C</td>\n",
              "    </tr>\n",
              "    <tr>\n",
              "      <th>2</th>\n",
              "      <td>3</td>\n",
              "      <td>1</td>\n",
              "      <td>3</td>\n",
              "      <td>Heikkinen, Miss. Laina</td>\n",
              "      <td>female</td>\n",
              "      <td>26.0</td>\n",
              "      <td>0</td>\n",
              "      <td>0</td>\n",
              "      <td>STON/O2. 3101282</td>\n",
              "      <td>7.9250</td>\n",
              "      <td>NaN</td>\n",
              "      <td>S</td>\n",
              "    </tr>\n",
              "    <tr>\n",
              "      <th>3</th>\n",
              "      <td>4</td>\n",
              "      <td>1</td>\n",
              "      <td>1</td>\n",
              "      <td>Futrelle, Mrs. Jacques Heath (Lily May Peel)</td>\n",
              "      <td>female</td>\n",
              "      <td>35.0</td>\n",
              "      <td>1</td>\n",
              "      <td>0</td>\n",
              "      <td>113803</td>\n",
              "      <td>53.1000</td>\n",
              "      <td>C123</td>\n",
              "      <td>S</td>\n",
              "    </tr>\n",
              "    <tr>\n",
              "      <th>4</th>\n",
              "      <td>5</td>\n",
              "      <td>0</td>\n",
              "      <td>3</td>\n",
              "      <td>Allen, Mr. William Henry</td>\n",
              "      <td>male</td>\n",
              "      <td>35.0</td>\n",
              "      <td>0</td>\n",
              "      <td>0</td>\n",
              "      <td>373450</td>\n",
              "      <td>8.0500</td>\n",
              "      <td>NaN</td>\n",
              "      <td>S</td>\n",
              "    </tr>\n",
              "    <tr>\n",
              "      <th>5</th>\n",
              "      <td>6</td>\n",
              "      <td>0</td>\n",
              "      <td>3</td>\n",
              "      <td>Moran, Mr. James</td>\n",
              "      <td>male</td>\n",
              "      <td>NaN</td>\n",
              "      <td>0</td>\n",
              "      <td>0</td>\n",
              "      <td>330877</td>\n",
              "      <td>8.4583</td>\n",
              "      <td>NaN</td>\n",
              "      <td>Q</td>\n",
              "    </tr>\n",
              "  </tbody>\n",
              "</table>\n",
              "</div>"
            ],
            "text/plain": [
              "   PassengerId  Survived  Pclass  ...     Fare Cabin  Embarked\n",
              "0            1         0       3  ...   7.2500   NaN         S\n",
              "1            2         1       1  ...  71.2833   C85         C\n",
              "2            3         1       3  ...   7.9250   NaN         S\n",
              "3            4         1       1  ...  53.1000  C123         S\n",
              "4            5         0       3  ...   8.0500   NaN         S\n",
              "5            6         0       3  ...   8.4583   NaN         Q\n",
              "\n",
              "[6 rows x 12 columns]"
            ]
          },
          "metadata": {
            "tags": []
          },
          "execution_count": 5
        }
      ]
    },
    {
      "cell_type": "code",
      "metadata": {
        "id": "pYcfqxjGtSPU",
        "colab_type": "code",
        "colab": {}
      },
      "source": [
        "# function to split the data\n",
        "def splitdataset(data):\n",
        "  # reorder columns\n",
        "  "
      ],
      "execution_count": 0,
      "outputs": []
    },
    {
      "cell_type": "markdown",
      "metadata": {
        "id": "BQuWKfGWE5RN",
        "colab_type": "text"
      },
      "source": [
        "###Evaluation\n",
        "Improvements for future renditions: \n",
        "- When producing the ages for null values in the dataset, the ages could have been grouped by class and gender of the individual, rather than just using gender. This may produce a more accurate number. The age range for females is: 0.75-63, giving a range difference of 62.25, whilst the age range for males is: 0.42-80, giving a age range of 79.58. The age range is also specified further when Pclass is added.\n",
        "- Use Gini Idex instead of Entropy?"
      ]
    },
    {
      "cell_type": "markdown",
      "metadata": {
        "id": "gHQsYEjgDbE2",
        "colab_type": "text"
      },
      "source": [
        "###Results\n",
        "This is the results from the decision tree model, displaying the accuracy outcomes for the changing variables\n",
        "\n",
        "Train Data Split|Criterion|Max Depth|Misclassified|Accuracy\n",
        "---|---|---|---|---\n",
        "0.6|Entropy|3|70|0.8039\n",
        "0.6|Entropy|5|68|0.8095\n",
        "0.6|Gini|3|67|0.8123\n",
        "0.6|Gini|5|77|0.7843\n",
        "0.7|Entropy|3|48|0.8209\n",
        "0.7|Entropy|5|48|0.8209\n",
        "0.7|Gini|3|48|0.8209\n",
        "0.7|Gini|5|49|0.8172"
      ]
    },
    {
      "cell_type": "markdown",
      "metadata": {
        "id": "hb1GeQENE8Jj",
        "colab_type": "text"
      },
      "source": [
        "###Conclusion"
      ]
    },
    {
      "cell_type": "markdown",
      "metadata": {
        "id": "DoVVVg29E-B2",
        "colab_type": "text"
      },
      "source": [
        "###Ethical Justification\n",
        "\n",
        "- potential misuses of the technique\n",
        "- utilitarian view?"
      ]
    },
    {
      "cell_type": "markdown",
      "metadata": {
        "id": "W5QikhaZFA0x",
        "colab_type": "text"
      },
      "source": [
        "###Video Pitch\n",
        "*Attached to the final document*"
      ]
    }
  ]
}