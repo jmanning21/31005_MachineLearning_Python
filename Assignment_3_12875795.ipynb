{
  "nbformat": 4,
  "nbformat_minor": 0,
  "metadata": {
    "colab": {
      "name": "Assignment_3_12875795",
      "provenance": [],
      "include_colab_link": true
    },
    "kernelspec": {
      "name": "python3",
      "display_name": "Python 3"
    }
  },
  "cells": [
    {
      "cell_type": "markdown",
      "metadata": {
        "id": "view-in-github",
        "colab_type": "text"
      },
      "source": [
        "<a href=\"https://colab.research.google.com/github/jmanning21/31005_MachineLearning_Python/blob/master/Assignment_3_12875795.ipynb\" target=\"_parent\"><img src=\"https://colab.research.google.com/assets/colab-badge.svg\" alt=\"Open In Colab\"/></a>"
      ]
    },
    {
      "cell_type": "markdown",
      "metadata": {
        "id": "97Azdfa3IRm4",
        "colab_type": "text"
      },
      "source": [
        "#Assignment 3: Take Home Exam\n",
        "###Julia Manning | 12875795\n",
        "\n",
        "##Selected Question: Question 3\n",
        "*Marketing or advertising companies would be very interested in being able to predict whether a Twitter message will spread as a meme or not, and even better, construct it so that it will spread. Why is this a hard problem to solve? Describe two approaches using data analytics to predict whether a tweet will go viral or not. How would you validate these approaches? Discuss the ethical and social consequences of this study.*\n"
      ]
    },
    {
      "cell_type": "markdown",
      "metadata": {
        "id": "5AiTLi4RM72k",
        "colab_type": "text"
      },
      "source": [
        "###1. __Why is this a hard problem to solve?__\n",
        "There are multiple aspects that need to be considered when solving this problem. One of the major problems is retrieving the data. According to Sayce (2019), there are 500 million tweets sent everyday\n",
        "\n",
        "The second problem is handling the large amounts of data made available. With this problem comes the flow-on effect of a large computational cost. \n",
        "\n",
        "The third problem is filtering the large dataset into a reasonable and legitimate size without placing any bias or manipulation strategies on the dataset. "
      ]
    },
    {
      "cell_type": "markdown",
      "metadata": {
        "id": "Lt4aGQIdNO7h",
        "colab_type": "text"
      },
      "source": [
        "###2. __Describe two approaches using data analytics to predict whether a tweet will go viral or not.__\n",
        "dfgdfg"
      ]
    },
    {
      "cell_type": "markdown",
      "metadata": {
        "id": "CVj82KzdTk-C",
        "colab_type": "text"
      },
      "source": [
        "####Current approaches\n",
        "Jenders et.al --> \n",
        "1. analyse \"obvious\" tweets and user features (based on no. followers, tweet length, no. hashtags, no. mentions) and the impact of the tweet and retweet frequency.\n",
        "2. analyse word meanings in a tweet and the retweet frequency\n",
        "- Compare between a Naive Bayes model (conditional feature independence) and a generalised linear model (avoids simplifying assumptions)"
      ]
    },
    {
      "cell_type": "markdown",
      "metadata": {
        "id": "8k8_KpSRNdXU",
        "colab_type": "text"
      },
      "source": [
        "###3. __How would you validate these approaches?__\n",
        "dfgdfg"
      ]
    },
    {
      "cell_type": "markdown",
      "metadata": {
        "id": "S0Uhb-4fNiyd",
        "colab_type": "text"
      },
      "source": [
        "###4. __Discuss the ethical and social consequences of this study__\n",
        "When collecting data from Twitter there are several ethical and social consequences that may arise from this study. "
      ]
    },
    {
      "cell_type": "markdown",
      "metadata": {
        "id": "I-Gc4eEAPsH0",
        "colab_type": "text"
      },
      "source": [
        "###References\n",
        "Jenders, M., Kasneci, G. & Naumann, F. 2013, 'Analyzing and Predicting Viral Tweets', *Proceedings of the 22nd International Conference on World Wide Web*, pp. 657-664.\n",
        "\n",
        "Sayce, D. 2019, *Number of tweets per day?*, David Sayce, viewed 7 October 2019, <https://www.dsayce.com/social-media/tweets-day/>."
      ]
    }
  ]
}