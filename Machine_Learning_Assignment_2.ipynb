{
  "nbformat": 4,
  "nbformat_minor": 0,
  "metadata": {
    "colab": {
      "name": "Machine Learning Assignment 2.ipynb",
      "provenance": [],
      "collapsed_sections": [],
      "include_colab_link": true
    },
    "kernelspec": {
      "name": "python3",
      "display_name": "Python 3"
    }
  },
  "cells": [
    {
      "cell_type": "markdown",
      "metadata": {
        "id": "view-in-github",
        "colab_type": "text"
      },
      "source": [
        "<a href=\"https://colab.research.google.com/github/jmanning21/31005_MachineLearning_Python/blob/master/Machine_Learning_Assignment_2.ipynb\" target=\"_parent\"><img src=\"https://colab.research.google.com/assets/colab-badge.svg\" alt=\"Open In Colab\"/></a>"
      ]
    },
    {
      "cell_type": "markdown",
      "metadata": {
        "id": "YxDh23ZzhcyU",
        "colab_type": "text"
      },
      "source": [
        "#Assignment 2: Practical Machine Learning Project\n",
        "####Affnan Amir (13528841) and Julia Manning (12875795)"
      ]
    },
    {
      "cell_type": "markdown",
      "metadata": {
        "id": "BjezS5t_-Gzl",
        "colab_type": "text"
      },
      "source": [
        "###Introduction\n",
        "The algorithm chosen for this project is the ID3 Decision Tree building algorithm. In using this alrogithm, the data  \n",
        "\n",
        "* Input = titanic dataset from given url:\n",
        "https://raw.githubusercontent.com/datasciencedojo/datasets/master/titanic.csv\n",
        "* Output = predicted resutls for those individuals which survived (i.e. binary options; Did they survive? Yes or No)."
      ]
    },
    {
      "cell_type": "markdown",
      "metadata": {
        "id": "OqiTYMTfEyE7",
        "colab_type": "text"
      },
      "source": [
        "###Exploration\n",
        "\n",
        "Challenges:\n",
        " - over-fitting the data"
      ]
    },
    {
      "cell_type": "markdown",
      "metadata": {
        "id": "U5b_yI15si8f",
        "colab_type": "text"
      },
      "source": [
        "###Methodology"
      ]
    },
    {
      "cell_type": "code",
      "metadata": {
        "id": "CN1ZCy7rspT_",
        "colab_type": "code",
        "colab": {}
      },
      "source": [
        "import numpy as np \n",
        "import pandas as pd \n",
        "from sklearn.metrics import confusion_matrix \n",
        "from sklearn.model_selection import train_test_split\n",
        "from sklearn.tree import DecisionTreeClassifier \n",
        "from sklearn.metrics import accuracy_score \n",
        "from sklearn.metrics import classification_report "
      ],
      "execution_count": 0,
      "outputs": []
    },
    {
      "cell_type": "code",
      "metadata": {
        "id": "FPfS2i6js174",
        "colab_type": "code",
        "colab": {}
      },
      "source": [
        "# Function importing dataset and cleaning\n",
        "def importdata(): \n",
        "  url = \"https://raw.githubusercontent.com/datasciencedojo/datasets/master/titanic.csv\"\n",
        "  # Read the csv and convert to a dataframe\n",
        "  d = pd.read_csv(url)\n",
        "  df = pd.DataFrame(data=d)\n",
        "\n",
        "  median_values = df.groupby(['Pclass','Sex'])['Age'].transform('median')\n",
        "  df['Age'].fillna(median_values, inplace=True)\n",
        "  \n",
        "  # Adding and removing specific columns which may help with the accuracy of the accuracy.\n",
        "  # Add a Child.Adult column based on the age of the individual\n",
        "  df['Child.Adult'] = 'Adult'\n",
        "\n",
        "  # Child = Age < 13 and Adult = Age >= 13 \n",
        "  df['Child.Adult'][df['Age'] < 13.0] = 'Child'\n",
        "\n",
        "  # Remove 'Name' column as it does not provide any relevant information to the dataset, as all the values are unique\n",
        "  del df['Name']\n",
        "  # Remove 'Cabin' as there are too many NA values and the remaining values are all unique, make it impossible to determine a suitable replacement for the NA values\n",
        "  del df['Cabin']\n",
        "\n",
        "  # Re-ordering the columns to put the 'Survived' column last\n",
        "  df = df[['PassengerId','Pclass','Sex','Age','SibSp','Parch','Ticket','Fare','Embarked','Child.Adult','Survived']]\n",
        "  \n",
        "  df['Sex'],_ = pd.factorize(df['Sex'])\n",
        "  df['Embarked'],_ = pd.factorize(df['Embarked'])\n",
        "  df['Child.Adult'],_ = pd.factorize(df['Child.Adult'])\n",
        "  df['Ticket'],_ = pd.factorize(df['Ticket'])\n",
        "  \n",
        "  return df"
      ],
      "execution_count": 0,
      "outputs": []
    },
    {
      "cell_type": "code",
      "metadata": {
        "id": "pYcfqxjGtSPU",
        "colab_type": "code",
        "colab": {}
      },
      "source": [
        "# function to split the data\n",
        "def splitdataset(df,split):\n",
        "  # Seperating the target variable \n",
        "    X = df.iloc[:,:-1]\n",
        "    Y = df.iloc[:,-1] \n",
        "    test_split = 1 - split\n",
        "    \n",
        "    # Spliting the dataset into train and test \n",
        "    X_train, X_test, y_train, y_test = train_test_split(  \n",
        "    X, Y, test_size = test_split, random_state = 100) \n",
        "    \n",
        "    return X, Y, X_train, X_test, y_train, y_test"
      ],
      "execution_count": 0,
      "outputs": []
    },
    {
      "cell_type": "code",
      "metadata": {
        "id": "41lq8d5MwICu",
        "colab_type": "code",
        "colab": {}
      },
      "source": [
        "# Function to perform training with giniIndex. \n",
        "def train_using_gini(X_train, X_test, y_train): \n",
        "  \n",
        "    # Creating the classifier object \n",
        "    clf_gini = DecisionTreeClassifier(\n",
        "        criterion = \"gini\", random_state = 123,\n",
        "        max_depth=3, min_samples_leaf=5) \n",
        "  \n",
        "    # Performing training \n",
        "    clf_gini.fit(X_train, y_train) \n",
        "    return clf_gini "
      ],
      "execution_count": 0,
      "outputs": []
    },
    {
      "cell_type": "code",
      "metadata": {
        "id": "ZcBy3wBnwIBt",
        "colab_type": "code",
        "colab": {}
      },
      "source": [
        "# Function to perform training with entropy. \n",
        "def train_using_entropy(X_train, X_test, y_train): \n",
        "  \n",
        "    # Decision tree with entropy \n",
        "    clf_entropy = DecisionTreeClassifier( \n",
        "            criterion = \"entropy\", random_state = 123, \n",
        "            max_depth = 3, min_samples_leaf = 5) \n",
        "  \n",
        "    # Performing training \n",
        "    clf_entropy.fit(X_train, y_train) \n",
        "    return clf_entropy"
      ],
      "execution_count": 0,
      "outputs": []
    },
    {
      "cell_type": "code",
      "metadata": {
        "id": "KUB60GLYwIAV",
        "colab_type": "code",
        "colab": {}
      },
      "source": [
        "# Function to make predictions \n",
        "def prediction(X_test, clf_object): \n",
        "  \n",
        "    # Predicton on test with giniIndex \n",
        "    y_pred = clf_object.predict(X_test) \n",
        "    print(\"Predicted values:\") \n",
        "    print(y_pred) \n",
        "    return y_pred"
      ],
      "execution_count": 0,
      "outputs": []
    },
    {
      "cell_type": "code",
      "metadata": {
        "id": "GIw34vaHwd-3",
        "colab_type": "code",
        "colab": {}
      },
      "source": [
        "# Function to calculate accuracy \n",
        "def cal_accuracy(y_test, y_pred): \n",
        "      \n",
        "    print(\"Confusion Matrix: \", \n",
        "        confusion_matrix(y_test, y_pred)) \n",
        "      \n",
        "    print (\"Accuracy : {:.2f}%\".format(accuracy_score(y_test,y_pred)*100)) \n",
        "            \n",
        "    print(\"Report : \", \n",
        "    classification_report(y_test, y_pred))"
      ],
      "execution_count": 0,
      "outputs": []
    },
    {
      "cell_type": "code",
      "metadata": {
        "id": "G9XUebg1wntb",
        "colab_type": "code",
        "colab": {}
      },
      "source": [
        "# Driver code \n",
        "def main(var): \n",
        "      \n",
        "    # Building Phase \n",
        "    data = importdata()\n",
        "    X, Y, X_train, X_test, y_train, y_test = splitdataset(data,var) \n",
        "    clf_gini = train_using_gini(X_train, X_test, y_train) \n",
        "    clf_entropy = train_using_entropy(X_train, X_test, y_train) \n",
        "      \n",
        "    # Operational Phase \n",
        "    print(\"Results Using Gini Index:\") \n",
        "      \n",
        "    # Prediction using gini \n",
        "    y_pred_gini = prediction(X_test, clf_gini) \n",
        "    cal_accuracy(y_test, y_pred_gini) \n",
        "      \n",
        "    print(\"Results Using Entropy:\") \n",
        "    # Prediction using entropy \n",
        "    y_pred_entropy = prediction(X_test, clf_entropy) \n",
        "    cal_accuracy(y_test, y_pred_entropy) "
      ],
      "execution_count": 0,
      "outputs": []
    },
    {
      "cell_type": "code",
      "metadata": {
        "id": "UWY99ANawsWS",
        "colab_type": "code",
        "colab": {
          "base_uri": "https://localhost:8080/",
          "height": 891
        },
        "outputId": "5a176e7c-76ed-4d52-d47e-e903dee0e816"
      },
      "source": [
        "# Run the entire code\n",
        "while True:\n",
        "  try:\n",
        "    var = float(input(\"Enter the training data split number: \"))\n",
        "    \n",
        "    if var <= 0.99 and var >= 0.01:\n",
        "      main(var) \n",
        "    \n",
        "  except ValueError:\n",
        "    print(\"This process has been stopped.\")\n",
        "    print(\"To continue rerun and enter a number between 0.01 and 0.99\")\n",
        "    break"
      ],
      "execution_count": 51,
      "outputs": [
        {
          "output_type": "stream",
          "text": [
            "Enter the training data split number: 0.72\n"
          ],
          "name": "stdout"
        },
        {
          "output_type": "stream",
          "text": [
            "/usr/local/lib/python3.6/dist-packages/ipykernel_launcher.py:15: SettingWithCopyWarning: \n",
            "A value is trying to be set on a copy of a slice from a DataFrame\n",
            "\n",
            "See the caveats in the documentation: http://pandas.pydata.org/pandas-docs/stable/indexing.html#indexing-view-versus-copy\n",
            "  from ipykernel import kernelapp as app\n"
          ],
          "name": "stderr"
        },
        {
          "output_type": "stream",
          "text": [
            "Results Using Gini Index:\n",
            "Predicted values:\n",
            "[1 1 0 1 0 0 0 0 1 0 1 0 0 1 1 0 1 0 1 0 0 1 0 1 0 0 1 0 0 0 0 1 0 0 1 0 1\n",
            " 1 1 0 1 1 0 1 0 1 0 1 0 1 0 0 0 0 0 0 0 0 0 0 0 0 0 0 0 1 0 1 1 0 0 0 0 1\n",
            " 0 0 0 0 0 0 0 0 1 1 1 0 0 1 0 0 0 1 0 0 1 1 1 1 0 1 0 0 0 1 0 1 0 1 1 0 0\n",
            " 0 0 0 1 0 0 0 0 1 0 0 1 0 0 1 0 0 1 0 0 0 0 1 0 0 0 0 1 0 1 1 0 0 0 0 1 1\n",
            " 0 1 1 0 0 1 0 1 0 1 0 0 1 1 0 0 1 0 1 0 0 1 0 1 0 1 1 1 0 0 1 0 0 0 1 0 0\n",
            " 0 0 0 1 1 1 0 1 0 0 0 0 0 1 0 1 0 0 0 0 0 0 0 0 1 0 0 0 0 0 0 1 1 0 0 0 1\n",
            " 1 0 1 0 0 1 0 0 1 0 0 1 0 0 1 1 0 1 0 0 0 0 0 0 0 0 0 0]\n",
            "Confusion Matrix:  [[131  16]\n",
            " [ 33  70]]\n",
            "Accuracy : 80.40%\n",
            "Report :                precision    recall  f1-score   support\n",
            "\n",
            "           0       0.80      0.89      0.84       147\n",
            "           1       0.81      0.68      0.74       103\n",
            "\n",
            "    accuracy                           0.80       250\n",
            "   macro avg       0.81      0.79      0.79       250\n",
            "weighted avg       0.81      0.80      0.80       250\n",
            "\n",
            "Results Using Entropy:\n",
            "Predicted values:\n",
            "[1 1 0 1 0 0 0 0 1 0 1 0 0 1 1 0 1 0 1 0 0 1 0 1 0 0 1 0 0 0 0 1 0 0 1 0 1\n",
            " 1 1 0 1 1 0 1 0 1 0 1 0 1 0 0 0 0 0 0 0 0 0 0 0 1 0 0 0 1 0 1 1 0 0 0 0 1\n",
            " 0 0 0 0 0 0 0 0 1 1 1 0 0 1 0 0 0 1 0 0 1 1 1 1 0 1 0 0 0 1 0 1 0 1 1 0 0\n",
            " 0 0 0 1 0 0 0 0 1 0 0 1 0 0 1 0 0 1 0 0 0 0 1 0 0 0 0 1 0 1 1 0 0 0 0 1 1\n",
            " 0 1 1 0 0 1 0 1 0 1 0 0 1 1 0 0 1 0 1 0 0 1 0 1 0 1 1 1 0 0 1 0 0 0 1 0 0\n",
            " 0 0 0 1 1 1 0 1 0 0 0 0 0 1 0 1 0 0 0 0 0 0 0 0 1 0 0 0 0 0 0 1 1 0 0 0 1\n",
            " 1 0 1 0 0 1 0 0 1 0 0 1 0 0 1 1 0 1 0 0 0 0 0 0 0 0 0 0]\n",
            "Confusion Matrix:  [[131  16]\n",
            " [ 32  71]]\n",
            "Accuracy : 80.80%\n",
            "Report :                precision    recall  f1-score   support\n",
            "\n",
            "           0       0.80      0.89      0.85       147\n",
            "           1       0.82      0.69      0.75       103\n",
            "\n",
            "    accuracy                           0.81       250\n",
            "   macro avg       0.81      0.79      0.80       250\n",
            "weighted avg       0.81      0.81      0.80       250\n",
            "\n",
            "Enter the training data split number: stop\n",
            "This process has been stopped.\n",
            "To continue rerun and enter a number between 0.01 and 0.99\n"
          ],
          "name": "stdout"
        }
      ]
    },
    {
      "cell_type": "markdown",
      "metadata": {
        "id": "BQuWKfGWE5RN",
        "colab_type": "text"
      },
      "source": [
        "###Evaluation\n",
        "Improvements for future renditions: \n",
        "- When producing the ages for null values in the dataset, the ages could have been grouped by class and gender and class of the individual, rather than just using gender. This may produce a more accurate number. \n",
        "- Use Gini Idex instead of Entropy?"
      ]
    },
    {
      "cell_type": "markdown",
      "metadata": {
        "id": "gHQsYEjgDbE2",
        "colab_type": "text"
      },
      "source": [
        "###Results\n",
        "This is the results from the decision tree model, displaying the accuracy outcomes for the changing variables\n",
        "\n",
        "Train Data Split|Criterion|Max Depth|Misclassified|Accuracy\n",
        "---|---|---|---|---\n",
        "0.6|Entropy|3|70|0.8039\n",
        "0.6|Entropy|5|68|0.8095\n",
        "0.6|Gini|3|67|0.8123\n",
        "0.6|Gini|5|77|0.7843\n",
        "0.7|Entropy|3|48|0.8209\n",
        "0.7|Entropy|5|48|0.8209\n",
        "0.7|Gini|3|48|0.8209\n",
        "0.7|Gini|5|49|0.8172"
      ]
    },
    {
      "cell_type": "markdown",
      "metadata": {
        "id": "hb1GeQENE8Jj",
        "colab_type": "text"
      },
      "source": [
        "###Conclusion"
      ]
    },
    {
      "cell_type": "markdown",
      "metadata": {
        "id": "DoVVVg29E-B2",
        "colab_type": "text"
      },
      "source": [
        "###Ethical Justification\n",
        "\n",
        "- potential misuses of the technique\n",
        "- utilitarian view?"
      ]
    },
    {
      "cell_type": "markdown",
      "metadata": {
        "id": "W5QikhaZFA0x",
        "colab_type": "text"
      },
      "source": [
        "###Video Pitch\n",
        "*Attached to the final document*"
      ]
    }
  ]
}