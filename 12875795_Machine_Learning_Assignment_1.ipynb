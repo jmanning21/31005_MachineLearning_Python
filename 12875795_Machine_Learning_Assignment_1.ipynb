{
  "nbformat": 4,
  "nbformat_minor": 0,
  "metadata": {
    "colab": {
      "name": "12875795_Machine_Learning_Assignment_1",
      "version": "0.3.2",
      "provenance": [],
      "collapsed_sections": [],
      "include_colab_link": true
    },
    "kernelspec": {
      "name": "python3",
      "display_name": "Python 3"
    }
  },
  "cells": [
    {
      "cell_type": "markdown",
      "metadata": {
        "id": "view-in-github",
        "colab_type": "text"
      },
      "source": [
        "<a href=\"https://colab.research.google.com/github/jmanning21/31005_MachineLearning_Python/blob/master/12875795_Machine_Learning_Assignment_1.ipynb\" target=\"_parent\"><img src=\"https://colab.research.google.com/assets/colab-badge.svg\" alt=\"Open In Colab\"/></a>"
      ]
    },
    {
      "cell_type": "markdown",
      "metadata": {
        "id": "NtQSqhYWk-tW",
        "colab_type": "text"
      },
      "source": [
        "# Assignment 1: Understanding the Literature\n",
        "#### Julia Manning | 12875795\n",
        "\n",
        "\n",
        "---\n",
        "\n"
      ]
    },
    {
      "cell_type": "markdown",
      "metadata": {
        "id": "Q5TYJXWsIVMX",
        "colab_type": "text"
      },
      "source": [
        "# Review Report on Eigenfaces vs. Fisherfaces: Recognition Using Class Specific Linear Projection"
      ]
    },
    {
      "cell_type": "markdown",
      "metadata": {
        "id": "A89o_WxpLnYq",
        "colab_type": "text"
      },
      "source": [
        "## Introduction\n"
      ]
    },
    {
      "cell_type": "markdown",
      "metadata": {
        "id": "lyDA8a-zLotQ",
        "colab_type": "text"
      },
      "source": [
        "## Content\n",
        "\n",
        "* __Describe in your own words what the paper is about/what is being proposed in the paper?__\n",
        "\n",
        "The authors in the paper propose a new approach in which facial recognition is achieved despite the more extreme alterations made on the images. The new approach is successful if the given image is recognised in differing light intensities, light directions, number of light sources, facial expressions and eye wear.  The proposed method is derived from Fisher’s Linear Discriminant (FLD), hence being named Fisherfaces method, and uses a combination of nearly orthogonal projection directions to maintain discriminability and maximising the ratio of between-class scatter matrices to the within-class scatter matrices. The method also benefits from two given observations which outline \n",
        "* __What are the main challenges and/or problem that it is trying to solve?__\n",
        "\n",
        "Currently, there has been little success with pattern recognition methods and techniques that can produce a successful outcome from images that involve intense light variations. This paper delivers a "
      ]
    },
    {
      "cell_type": "markdown",
      "metadata": {
        "id": "xwJMfMoVLqkx",
        "colab_type": "text"
      },
      "source": [
        "## Innovation"
      ]
    },
    {
      "cell_type": "markdown",
      "metadata": {
        "id": "q8qhGEtdLrho",
        "colab_type": "text"
      },
      "source": [
        "## Technical Quality"
      ]
    },
    {
      "cell_type": "markdown",
      "metadata": {
        "id": "0_wFWG4_Lszf",
        "colab_type": "text"
      },
      "source": [
        "## Application and X-factor"
      ]
    },
    {
      "cell_type": "markdown",
      "metadata": {
        "id": "KcC8pZNoLuv4",
        "colab_type": "text"
      },
      "source": [
        "## Presentation\n",
        "The overall structure of the paper was clear. The sections were divided into appropriate sections and headings, helping to create a flow in the paper similar to that of one's thinking process. As a variety of well-known and alternate methods were discussed throughout the paper, the author's clearly stated what the given method was, how it would achieve the end goal, as well as any significant benefits or disadvantages made apparent. The paper, however, did require additional research as several algorithms and acronyms were used throughout to convey how the final method was achieved. The paper"
      ]
    },
    {
      "cell_type": "markdown",
      "metadata": {
        "id": "npwqEqmSLwYd",
        "colab_type": "text"
      },
      "source": [
        "## References\n",
        "\n",
        "Belhumeur, P.N., Hespanha, J.P. & Kriegman, D.J. 1997, 'Eigenfaces vs. Fisherfaces: Recognition Using Class Specific Linear Projection', *IEEE Transactions on Pattern Analysis and Machine Intelligence*, vol. 19, no.7, pp. 711-720."
      ]
    },
    {
      "cell_type": "markdown",
      "metadata": {
        "id": "oM9Avm6UdEch",
        "colab_type": "text"
      },
      "source": [
        "##Appendix\n",
        "\n",
        "####GitHub Respository:\n",
        "https://github.com/jmanning21/31005_MachineLearning_Python/blob/master/12875795_Machine_Learning_Assignment_1.ipynb"
      ]
    }
  ]
}