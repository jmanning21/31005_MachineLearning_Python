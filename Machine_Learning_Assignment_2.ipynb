{
  "nbformat": 4,
  "nbformat_minor": 0,
  "metadata": {
    "colab": {
      "name": "Machine Learning Assignment 2.ipynb",
      "provenance": [],
      "collapsed_sections": [],
      "include_colab_link": true
    },
    "kernelspec": {
      "name": "python3",
      "display_name": "Python 3"
    }
  },
  "cells": [
    {
      "cell_type": "markdown",
      "metadata": {
        "id": "view-in-github",
        "colab_type": "text"
      },
      "source": [
        "<a href=\"https://colab.research.google.com/github/jmanning21/31005_MachineLearning_Python/blob/master/Machine_Learning_Assignment_2.ipynb\" target=\"_parent\"><img src=\"https://colab.research.google.com/assets/colab-badge.svg\" alt=\"Open In Colab\"/></a>"
      ]
    },
    {
      "cell_type": "markdown",
      "metadata": {
        "id": "YxDh23ZzhcyU",
        "colab_type": "text"
      },
      "source": [
        "#Assignment 2: Practical Machine Learning Project\n",
        "####Affnan Amir (13528841) and Julia Manning (12875795)"
      ]
    },
    {
      "cell_type": "markdown",
      "metadata": {
        "id": "BjezS5t_-Gzl",
        "colab_type": "text"
      },
      "source": [
        "###Introduction\n",
        "The algorithm chosen for this project is the ID3 Decision Tree building algorithm. In using this alrogithm, the data  \n",
        "\n",
        "* Input = \n",
        "* Output = "
      ]
    },
    {
      "cell_type": "markdown",
      "metadata": {
        "id": "OqiTYMTfEyE7",
        "colab_type": "text"
      },
      "source": [
        "###Exploration\n",
        "\n",
        "Challenges:\n",
        " - over-fitting the data"
      ]
    },
    {
      "cell_type": "markdown",
      "metadata": {
        "id": "XBDy0_3aE2so",
        "colab_type": "text"
      },
      "source": [
        "###Methodology"
      ]
    },
    {
      "cell_type": "code",
      "metadata": {
        "id": "q_GJFfN7QGa_",
        "colab_type": "code",
        "colab": {}
      },
      "source": [
        "# Importing the required packages\n",
        "import os\n",
        "import numpy as np\n",
        "import pandas as pd\n",
        "from sklearn import tree, metrics\n",
        "from sklearn.model_selection import train_test_split\n",
        "import matplotlib.pyplot as plt"
      ],
      "execution_count": 0,
      "outputs": []
    },
    {
      "cell_type": "code",
      "metadata": {
        "id": "x4CofyopSsOm",
        "colab_type": "code",
        "colab": {}
      },
      "source": [
        "# Importing the dataset from a url\n",
        "url = \"https://raw.githubusercontent.com/datasciencedojo/datasets/master/titanic.csv\"\n",
        "\n",
        "# Read the csv and convert to a dataframe\n",
        "d = pd.read_csv(url)\n",
        "df = pd.DataFrame(data=d)\n",
        "\n",
        "# See the first six rows of the dataset\n",
        "df.head(6)"
      ],
      "execution_count": 0,
      "outputs": []
    },
    {
      "cell_type": "code",
      "metadata": {
        "id": "f3Mfq1ipUo65",
        "colab_type": "code",
        "colab": {}
      },
      "source": [
        "# Cleaning some of the attributes: replace null values with median values\n",
        "# Replacing NA values in age with the median age of each sex\n",
        "median_values = df.groupby('Sex')['Age'].transform('median')\n",
        "df['Age'].fillna(median_values, inplace=True)\n",
        "df.head(6) # see the first 6 rows to see if the NA value was replaced in Ln 6"
      ],
      "execution_count": 0,
      "outputs": []
    },
    {
      "cell_type": "code",
      "metadata": {
        "id": "eaDbdlQLsSFj",
        "colab_type": "code",
        "colab": {}
      },
      "source": [
        "# Check the information about the dataset\n",
        "df.info()\n",
        "# There are no missing values in the dataset"
      ],
      "execution_count": 0,
      "outputs": []
    },
    {
      "cell_type": "code",
      "metadata": {
        "id": "3UAtAW8Ynitk",
        "colab_type": "code",
        "colab": {}
      },
      "source": [
        "# Identify the target variable\n",
        "df['Survived'],class_names = pd.factorize(df['Survived'])\n",
        "\n",
        "print(class_names)\n",
        "print(df['Survived'].unique())\n",
        "\n",
        "# The algorithm requires the target variable to be in integer format, which it already is. \n",
        "# Therefore no data type changes need to be made."
      ],
      "execution_count": 0,
      "outputs": []
    },
    {
      "cell_type": "code",
      "metadata": {
        "id": "Z_OqwSbp2Ksy",
        "colab_type": "code",
        "colab": {}
      },
      "source": [
        "# Adding and removing specific columns which may help with the accuracy of the accuracy.\n",
        "# Add a Child.Adult column based on the age of the individual\n",
        "df['Child.Adult'] = 'Adult'\n",
        "\n",
        "# Child = Age < 13 and Adult = Age >= 13 \n",
        "df['Child.Adult'][df['Age'] < 13.0] = 'Child'\n",
        "\n",
        "# Remove 'Name' column as it does not provide any relevant information to the dataset, as all the values are unique\n",
        "del df['Name']\n",
        "# Remove 'Cabin' as there are too many NA values and the remaining values are all unique, make it impossible to determine a suitable replacement for the NA values\n",
        "del df['Cabin']"
      ],
      "execution_count": 0,
      "outputs": []
    },
    {
      "cell_type": "code",
      "metadata": {
        "id": "SIFwjwXoub5S",
        "colab_type": "code",
        "colab": {}
      },
      "source": [
        "# Identifying the predictor variables and encode any string variables to their equivalent integer formats\n",
        "df['Sex'],_ = pd.factorize(df['Sex'])\n",
        "df['Embarked'],_ = pd.factorize(df['Embarked'])\n",
        "df['Child.Adult'],_ = pd.factorize(df['Child.Adult'])\n",
        "df['Ticket'],_ = pd.factorize(df['Ticket'])\n",
        "\n",
        "df.head(10)"
      ],
      "execution_count": 0,
      "outputs": []
    },
    {
      "cell_type": "code",
      "metadata": {
        "id": "kjE-8XBlyh6r",
        "colab_type": "code",
        "colab": {}
      },
      "source": [
        "# Re-ordering the columns to put the 'Survived' column last\n",
        "df = df[['PassengerId','Pclass','Sex','Age','SibSp','Parch','Ticket','Fare','Embarked','Child.Adult','Survived']]\n",
        "df.head(6)"
      ],
      "execution_count": 0,
      "outputs": []
    },
    {
      "cell_type": "code",
      "metadata": {
        "id": "yCxHtlc17Dbk",
        "colab_type": "code",
        "colab": {}
      },
      "source": [
        "# Selecting the predictor feature and target variable\n",
        "X = df.iloc[:,:-1]\n",
        "y = df.iloc[:,-1]"
      ],
      "execution_count": 0,
      "outputs": []
    },
    {
      "cell_type": "code",
      "metadata": {
        "id": "8NeRC-Gp7Rw-",
        "colab_type": "code",
        "colab": {}
      },
      "source": [
        "# split data randomly into 60% training and 40% test\n",
        "train_data_split = 0.6 #@param {type:\"number\", min:0.01, max:0.99}\n",
        "test_data_split = 1 - train_data_split\n",
        "X_train, X_test, y_train, y_test = train_test_split(X, y, test_size=test_data_split, random_state=0)"
      ],
      "execution_count": 0,
      "outputs": []
    },
    {
      "cell_type": "code",
      "metadata": {
        "id": "AyPvRDAFpDw5",
        "colab_type": "code",
        "colab": {
          "base_uri": "https://localhost:8080/",
          "height": 119
        },
        "outputId": "eb2af1ae-65d2-4183-fd0f-3111d68b5bdc"
      },
      "source": [
        "# training/model fitting\n",
        "# train the decision tree\n",
        "dtree = tree.DecisionTreeClassifier(criterion = 'entropy', max_depth = 3, random_state = 0)\n",
        "dtree.fit(X_train, y_train)"
      ],
      "execution_count": 22,
      "outputs": [
        {
          "output_type": "execute_result",
          "data": {
            "text/plain": [
              "DecisionTreeClassifier(class_weight=None, criterion='entropy', max_depth=3,\n",
              "                       max_features=None, max_leaf_nodes=None,\n",
              "                       min_impurity_decrease=0.0, min_impurity_split=None,\n",
              "                       min_samples_leaf=1, min_samples_split=2,\n",
              "                       min_weight_fraction_leaf=0.0, presort=False,\n",
              "                       random_state=0, splitter='best')"
            ]
          },
          "metadata": {
            "tags": []
          },
          "execution_count": 22
        }
      ]
    },
    {
      "cell_type": "code",
      "metadata": {
        "id": "5rKFJy-Mpz5T",
        "colab_type": "code",
        "colab": {
          "base_uri": "https://localhost:8080/",
          "height": 51
        },
        "outputId": "2f5c4d50-1f88-492c-d28a-63d9e3c57c7d"
      },
      "source": [
        "# use model to make predictions with \n",
        "y_pred = dtree.predict(X_test)\n",
        "\n",
        "# see how good the model performs\n",
        "misclassified_count = (y_test != y_pred).sum()\n",
        "print('Misclassified samples: {}'.format(misclassified_count))\n",
        "accuracy = metrics.accuracy_score(y_test,y_pred)\n",
        "print('Accuracy: {:.2f}'.format(accuracy))"
      ],
      "execution_count": 23,
      "outputs": [
        {
          "output_type": "stream",
          "text": [
            "Misclassified samples: 70\n",
            "Accuracy: 0.80\n"
          ],
          "name": "stdout"
        }
      ]
    },
    {
      "cell_type": "markdown",
      "metadata": {
        "id": "BQuWKfGWE5RN",
        "colab_type": "text"
      },
      "source": [
        "###Evaluation\n",
        "Improvements for future renditions: \n",
        "- When producing the ages for null values in the dataset, the ages could have been grouped by class and gender of the individual, rather than just using gender. This may produce a more accurate number. The age range for females is: 0.75-63, giving a range difference of 62.25, whilst the age range for males is: 0.42-80, giving a age range of 79.58. The age range is also specified further when Pclass is added.\n",
        "- Use Gini Idex instead of Entropy?"
      ]
    },
    {
      "cell_type": "markdown",
      "metadata": {
        "id": "hb1GeQENE8Jj",
        "colab_type": "text"
      },
      "source": [
        "###Conclusion"
      ]
    },
    {
      "cell_type": "markdown",
      "metadata": {
        "id": "DoVVVg29E-B2",
        "colab_type": "text"
      },
      "source": [
        "###Ethical Justification\n",
        "\n",
        "- potential misuses of the technique\n",
        "- utilitarian view?"
      ]
    },
    {
      "cell_type": "markdown",
      "metadata": {
        "id": "W5QikhaZFA0x",
        "colab_type": "text"
      },
      "source": [
        "###Video Pitch\n",
        "*Attached to the final document*"
      ]
    }
  ]
}