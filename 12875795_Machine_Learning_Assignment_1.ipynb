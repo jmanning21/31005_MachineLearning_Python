{
  "nbformat": 4,
  "nbformat_minor": 0,
  "metadata": {
    "colab": {
      "name": "12875795_Machine_Learning_Assignment_1",
      "version": "0.3.2",
      "provenance": [],
      "collapsed_sections": [],
      "include_colab_link": true
    },
    "kernelspec": {
      "name": "python3",
      "display_name": "Python 3"
    }
  },
  "cells": [
    {
      "cell_type": "markdown",
      "metadata": {
        "id": "view-in-github",
        "colab_type": "text"
      },
      "source": [
        "<a href=\"https://colab.research.google.com/github/jmanning21/31005_MachineLearning_Python/blob/master/12875795_Machine_Learning_Assignment_1.ipynb\" target=\"_parent\"><img src=\"https://colab.research.google.com/assets/colab-badge.svg\" alt=\"Open In Colab\"/></a>"
      ]
    },
    {
      "cell_type": "markdown",
      "metadata": {
        "id": "NtQSqhYWk-tW",
        "colab_type": "text"
      },
      "source": [
        "# Assignment 1: Understanding the Literature\n",
        "#### Julia Manning | 12875795\n",
        "\n",
        "---\n",
        "\n"
      ]
    },
    {
      "cell_type": "markdown",
      "metadata": {
        "id": "Q5TYJXWsIVMX",
        "colab_type": "text"
      },
      "source": [
        "# Review Report on Eigenfaces vs. Fisherfaces: Recognition Using Class Specific Linear Projection"
      ]
    },
    {
      "cell_type": "markdown",
      "metadata": {
        "id": "A89o_WxpLnYq",
        "colab_type": "text"
      },
      "source": [
        "## Introduction\n",
        "Within the past few decades, there have been numerous pattern recognition techniques made available for use that cater for images with different variations, mainly lighting and facial poses. The paper not only discusses and compares three previously established methods, but also introduces a new method based on Fisher’s Linear Discriminant. This method uses dimensionality reduction to reduce the sensitivity changes in lighting and facial poses, ultimately resulting in a lower error rate when using a range of database images. This report crtiques the contents and layout of the paper, whilst also providing suggestions for other domains where this method could be used in the real world."
      ]
    },
    {
      "cell_type": "markdown",
      "metadata": {
        "id": "lyDA8a-zLotQ",
        "colab_type": "text"
      },
      "source": [
        "## Content\n",
        "In the paper, the authors propose a new approach to achieve facial recognition where more extreme variations are present in the images. These variations can be due to differing light intensities, light directions, number of light sources, facial expressions or the presence of eye wear. The new approach is successful if the test image is correctly identified.\n",
        "\n",
        "The proposed method is derived from Fisher’s Linear Discriminant (FLD) and is hence named the Fisherfaces method. It uses a combination of nearly orthogonal projection directions to maintain discriminability, whilst maximising the ratio of between-class scatter matrices to the within-class scatter matrices. \n",
        "\n",
        "The method benefits from two observations:\n",
        "* All images viewed from a fixed viewpoint but under varied lighting lie in the same 3D linear subspace.\n",
        "*\tThe above observation does not hold true for all images, as some regions are impacted by shadowing, facial expressions and image specularity.  \n",
        "\n",
        "Considering this, we can project the images onto a significantly lower dimensional feature space, that allows us to conduct further analysis on images that is not impacted by lighting direction or facial expressions. \n",
        "\n",
        "The main challenge and aim of the paper can be stated as identifying each person in the test images from a learning set of face images, which are labelled with the given person's identity, and an unlabelled set of images from the same group of images as those in the learning set.\n",
        "\n",
        "Currently, there has been little success with pattern recognition methods and techniques that can produce a successful outcome from images that involve intense light variations. This paper delivers a comparison of three different pattern recognition methods (Correlation, Eigenfaces, and Linear Subspaces) against their own proposed method (Fisherfaces), as they aim recognise the images of people under extreme variations of light intensities and direction.\n",
        "\n",
        "\n",
        "\n"
      ]
    },
    {
      "cell_type": "markdown",
      "metadata": {
        "id": "xwJMfMoVLqkx",
        "colab_type": "text"
      },
      "source": [
        "## Innovation\n",
        "At the time of the research there were several pattern and facial recognition techniques and methods that were successful in recognise ideal database images. The problem with these methods were that they were not very transferrable into real-world situations. There was often difficulty in recognising images if there was a significant change to light intensity or direction displayed on the image, as natural shadows were created, and significant facial features used to assist in the classification were missed. This ultimately resulted in the number of reliable techniques for recognition under more extreme variations more difficult to find (Belhumeur et.al, 1997).\n",
        "\n",
        "The paper establishes that the authors have developed a new facial recognition method, named Fisherface, which is derived from FLD. The Fisherface method is not only explained and discussed, but it is also compared with two traditional and well-known methods and an alternate, lesser-known method. However, there was some understanding of the area at the time. Around the time of the release of the Fisherface method (1997), there were three distinct facial recognition algorithms known; frontal, profile and view-tolerant recognition. Each algorithm focused progressively increased in accuracy, speed and capabilities, however there were evidently still limitations within all three.\n"
      ]
    },
    {
      "cell_type": "markdown",
      "metadata": {
        "id": "q8qhGEtdLrho",
        "colab_type": "text"
      },
      "source": [
        "## Technical Quality\n",
        "The technical development in the paper is of high quality. The authors provided numerous experiments to evaluate their proposed recognition method against other popular methods. The success of each method in the experiment was determined by the error rate.\n",
        "\n",
        "The authors supported their method through a number of experiments that were carried out between the four pattern recognition methods using two databases. The first database from the Harvard Robotics Laboratory contained images of varied lighting, whilst the second database from Yale contained images with a variation in both lighting and facial expressions. Each subset of images contains a varied number of images, camera axis angles, light directions and light sources. \n",
        "\n",
        "To ensure consistency between each experiment, several variables were kept constant. These variables included; a nearest neighbour classification, all training images were projected into the features space, and all images excluded the contour of the head and were cropped appropriately. Extra consideration was taken when testing the Correlation and Eigenface methods, ensuring that they contained normalised images with a zero mean and unit variance. The additional cleaning on the two methods may be seen as a slight bias by some, as the data for these methods were altered to improve the overall performance against the other two methods. \n",
        "\n",
        "Overall, the paper contained three different experiments highlighting the difference in error rate between the four methods in variation in lighting and variation in facial expression, eye wear and lighting. Some of the experiment results can be seen below:\n",
        "\n",
        "\n",
        "Method|Reduced Space|Subset 1 Error Rate (%)|Subset 2 Error Rate (%)|Subset 3 Error Rate (%)\n",
        "---|---|---|---|---\n",
        "Eigenface|4|0.0|31.1|47.7\n",
        "Eigenface|10|0.0|4.4|41.5\n",
        "Eigenface w/o 1st 3|4|0.0|13.3|41.5\n",
        "Eigenface w/o 1st 3|10|0.0|4.4|27.7\n",
        "Correlation|29|0.0|0.0|33.9\n",
        "Linear Subspace|15|0.0|4.4|9.2\n",
        "Fisherface|4|0.0|0.0|4.6\n",
        "__Relative Performance under extreme light source conditions using Subsets 1-3.__\n",
        "\n",
        "Method|Reduced Space|Subset 2 Error Rate (%)|Subset 3 Error Rate (%)|Subset 4 Error Rate (%)\n",
        "---|---|---|---|---\n",
        "Eigenface|4|53.3|75.4|52.9\n",
        "Eigenface|10|11.11|33.9|20.0\n",
        "Eigenface w/o 1st 3|4|31.11|60.0|29.4\n",
        "Eigenface w/o 1st 3|10|6.7|20.0|12.9\n",
        "Correlation|129|0.0|21.54|7.1\n",
        "Linear Subspace|15|0.0|1.5|0.0\n",
        "Fisherface|4|0.0|0.0|1.2\n",
        "__Relative Performance under intermediate light source conditions using Subsets 2-4.__\n",
        "\n",
        "Additional experiments should have been used to further support the success of the proposed method over the other methods, however, due to the limitations of the method itself the experiments and subsquent results provided throughout the paper were sufficient. The results across all the experiments displayed a significantly lower error rate when compared to the other methods, particularly the most common and well-known Eigenface method.\n",
        "\n",
        "The authors thoroughly explained their proposed method, discussing how numerous aspects of the method were understood and demonstrated this through several mathemtical equations that contained signinficant comments and reasoning. The were multiple instances where the Fisherface method was directly compared to the Eigenface method, with the result being displayed in both tables and distinguishable graphs.\n",
        "\n",
        "  "
      ]
    },
    {
      "cell_type": "markdown",
      "metadata": {
        "id": "0_wFWG4_Lszf",
        "colab_type": "text"
      },
      "source": [
        "## Application and X-Factor\n",
        "I find the proposed Fisherface method promising within the field of pattern recognition. In using a lower dimensional feature speace, variation in light intensity and direction sees a significant reduction in the error rate when compared to the other current methods. From using these results, the Fisherface method has the potential and opportunity to be used not only within the current pattern recognition domain, but also in real-world situations. Further research on the Fisherface method, results in numerous articles and sources stating that this method is believed to be superiori over other techniques and methods, due to its ability to learn a class-specific transformation matrix, reducing the impact of any image variations.\n",
        "\n",
        "The proposed method, Fisherfaces, could be of benefit in other domains. As the method focuses on the light intensity, naturally created shadows, and fixed poses within the given image to recognise a face, these similar techniques can be used for vehicle plate recognition. The vehicle registration plates are in a rectangular shape, have a 6-character combination of 36 alpha-numeric characters, and are often displayed in the lower half of the front of the car. In recognising the registration plate, it could be determined whether the vehicle is currently registered or not. This could be taken further and linked with speed cameras; quickly capturing and recognising the prosecutor's registration plate in which a fine will be allocated to the driver.\n",
        "\n",
        "One suggestion for further development of this method would involve successful pattern recognition on faces with a larger variety of facial poses and angles. It is highlighted that the proposed method is experimented with a limited amount of varied facial poses, therefore making it apparent that a larger variety of facial poses should be used in next step for further developing this method. Additionally, the angle at which the image was taken could be varied as well, to replicate more real-world situations and expand the training set and capabilities of the proposed method.\n",
        "\n",
        "I believe that this paper has the ability to spark a good discussion with class, as it does not solely focus on the one proposed method, but rather takes it one step further and compares the Fisherface method with other well-known methods. The results from the experiments emphasise the significance of this method and the contribution it will make  to facial recognition industry."
      ]
    },
    {
      "cell_type": "markdown",
      "metadata": {
        "id": "KcC8pZNoLuv4",
        "colab_type": "text"
      },
      "source": [
        "## Presentation\n",
        "The overall structure of the paper was clear. The sections were divided into appropriate sections and headings, helping to create a flow in the paper similar to that of one's thinking process. As a variety of well-known and alternate methods were discussed throughout the paper, the authors clearly stated what the given method was, how it would achieve the end goal, as well as any significant benefits or disadvantages made apparent. An attractive point in the paper included the use of a variety of images, tables and algorithms to help convey the stated arguments. In using multiple mediums, the reader was able to grasp a better understanding of what was being discussed. \n",
        "\n",
        "The paper, however, did require additional research as several algorithms and acronyms were used throughout to convey how the final method was achieved. This may make it difficult for an individual who is new to machine learning or pattern recognition to grasp the concept of the methods within the paper, however the acronyms used are commonly used and can be understood clearly if researched further. It was evident that when the authors introducing the other facial recognition methods, a large portion of the explanation emphasised on the disadvantages of that said method. This can easily be interpreted in establishing a bias view for the reader, emphasising a larger amount of advantages in their proposed method compared to the others. To eliminate this immediate view, the authors should have provided a reasonably even list of advantages and disadvantages for each method for a fair comparison.\n",
        "\n",
        "\n"
      ]
    },
    {
      "cell_type": "markdown",
      "metadata": {
        "id": "npwqEqmSLwYd",
        "colab_type": "text"
      },
      "source": [
        "## References\n",
        "Belhumeur, P.N., Hespanha, J.P. & Kriegman, D.J. 1997, 'Eigenfaces vs. Fisherfaces: Recognition Using Class Specific Linear Projection', *IEEE Transactions on Pattern Analysis and Machine Intelligence*, vol. 19, no.7, pp. 711-720.\n",
        "\n",
        "Fromherz, T. 1997, 'Face Recognition: A Sumarry of 1995 - 1997', *International Computer Science Institute*, Berkeley, California, pp. 1-8.\n",
        "\n",
        "Park, J., Park, H. & Park, J. 2017, 'Distributed eigenfaces for massive face image data', *Multimedia Tools and Applications*, vol. 76, no. 24, pp.25983-25998.\n",
        "\n",
        "Vijaya Kumar, B., Savvides, M. & Xie, C. 2006, 'Correlation Pattern Recognition for Face Recognition', *Proceedings of the IEEE*, vol. 94, no. 11, pp. 1963-1976."
      ]
    },
    {
      "cell_type": "markdown",
      "metadata": {
        "id": "oM9Avm6UdEch",
        "colab_type": "text"
      },
      "source": [
        "##Appendix\n",
        "####GitHub Repository:\n",
        "https://github.com/jmanning21/31005_MachineLearning_Python/blob/master/12875795_Machine_Learning_Assignment_1.ipynb\n",
        "####Plain Text Copy:\n",
        "https://github.com/jmanning21/31005_MachineLearning_Python/blob/master/12875795_Assignment_1.txt"
      ]
    }
  ]
}