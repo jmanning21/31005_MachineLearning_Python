{
  "nbformat": 4,
  "nbformat_minor": 0,
  "metadata": {
    "colab": {
      "name": "Machine Learning Assignment 2.ipynb",
      "provenance": [],
      "collapsed_sections": [],
      "include_colab_link": true
    },
    "kernelspec": {
      "name": "python3",
      "display_name": "Python 3"
    }
  },
  "cells": [
    {
      "cell_type": "markdown",
      "metadata": {
        "id": "view-in-github",
        "colab_type": "text"
      },
      "source": [
        "<a href=\"https://colab.research.google.com/github/jmanning21/31005_MachineLearning_Python/blob/master/Machine_Learning_Assignment_2.ipynb\" target=\"_parent\"><img src=\"https://colab.research.google.com/assets/colab-badge.svg\" alt=\"Open In Colab\"/></a>"
      ]
    },
    {
      "cell_type": "markdown",
      "metadata": {
        "id": "YxDh23ZzhcyU",
        "colab_type": "text"
      },
      "source": [
        "#Assignment 2: Practical Machine Learning Project\n",
        "####Affnan Amir (13528841) and Julia Manning (12875795)"
      ]
    },
    {
      "cell_type": "markdown",
      "metadata": {
        "id": "BjezS5t_-Gzl",
        "colab_type": "text"
      },
      "source": [
        "###Introduction\n",
        "The algorithm chosen for this project is the ID3 Decision Tree building algorithm. In using this alrogithm, the data  \n",
        "\n",
        "* Input = \n",
        "* Output = "
      ]
    },
    {
      "cell_type": "markdown",
      "metadata": {
        "id": "OqiTYMTfEyE7",
        "colab_type": "text"
      },
      "source": [
        "###Exploration\n",
        "\n",
        "Challenges:\n",
        " - over-fitting the data"
      ]
    },
    {
      "cell_type": "markdown",
      "metadata": {
        "id": "XBDy0_3aE2so",
        "colab_type": "text"
      },
      "source": [
        "###Methodology"
      ]
    },
    {
      "cell_type": "code",
      "metadata": {
        "id": "q_GJFfN7QGa_",
        "colab_type": "code",
        "colab": {}
      },
      "source": [
        "# Importing the required packages\n",
        "import numpy as np\n",
        "import pandas as pd"
      ],
      "execution_count": 0,
      "outputs": []
    },
    {
      "cell_type": "code",
      "metadata": {
        "id": "x4CofyopSsOm",
        "colab_type": "code",
        "colab": {}
      },
      "source": [
        "# Importing the dataset from a url\n",
        "url = \"https://raw.githubusercontent.com/datasciencedojo/datasets/master/titanic.csv\"\n",
        "\n",
        "# Read the csv and convert to a dataframe\n",
        "d = pd.read_csv(url)\n",
        "df = pd.DataFrame(data=d)\n",
        "\n",
        "# See the first ten rows of the dataset\n",
        "df.head(10)\n"
      ],
      "execution_count": 0,
      "outputs": []
    },
    {
      "cell_type": "code",
      "metadata": {
        "id": "f3Mfq1ipUo65",
        "colab_type": "code",
        "colab": {}
      },
      "source": [
        "# Preprocessing some of the attributes: replace null values with median values, and changing variable type to reflect the real-world scenario\n",
        "# Replacing null values in age\n",
        " "
      ],
      "execution_count": 0,
      "outputs": []
    },
    {
      "cell_type": "markdown",
      "metadata": {
        "id": "BQuWKfGWE5RN",
        "colab_type": "text"
      },
      "source": [
        "###Evaluation"
      ]
    },
    {
      "cell_type": "markdown",
      "metadata": {
        "id": "hb1GeQENE8Jj",
        "colab_type": "text"
      },
      "source": [
        "###Conclusion"
      ]
    },
    {
      "cell_type": "markdown",
      "metadata": {
        "id": "DoVVVg29E-B2",
        "colab_type": "text"
      },
      "source": [
        "###Ethical Justification\n",
        "\n",
        "- potential misuses of the technique\n",
        "- utilitarian view?"
      ]
    },
    {
      "cell_type": "markdown",
      "metadata": {
        "id": "W5QikhaZFA0x",
        "colab_type": "text"
      },
      "source": [
        "###Video Pitch\n",
        "*Attached to the final document*"
      ]
    }
  ]
}