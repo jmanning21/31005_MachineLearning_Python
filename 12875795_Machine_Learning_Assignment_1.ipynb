{
  "nbformat": 4,
  "nbformat_minor": 0,
  "metadata": {
    "colab": {
      "name": "12875795_Machine_Learning_Assignment_1",
      "version": "0.3.2",
      "provenance": [],
      "collapsed_sections": [],
      "include_colab_link": true
    },
    "kernelspec": {
      "name": "python3",
      "display_name": "Python 3"
    }
  },
  "cells": [
    {
      "cell_type": "markdown",
      "metadata": {
        "id": "view-in-github",
        "colab_type": "text"
      },
      "source": [
        "<a href=\"https://colab.research.google.com/github/jmanning21/31005_MachineLearning_Python/blob/master/12875795_Machine_Learning_Assignment_1.ipynb\" target=\"_parent\"><img src=\"https://colab.research.google.com/assets/colab-badge.svg\" alt=\"Open In Colab\"/></a>"
      ]
    },
    {
      "cell_type": "markdown",
      "metadata": {
        "id": "NtQSqhYWk-tW",
        "colab_type": "text"
      },
      "source": [
        "# Assignment 1: Understanding the Literature\n",
        "#### Julia Manning | 12875795\n",
        "\n",
        "\n",
        "---\n",
        "\n"
      ]
    },
    {
      "cell_type": "markdown",
      "metadata": {
        "id": "Q5TYJXWsIVMX",
        "colab_type": "text"
      },
      "source": [
        "# Review Report on Eigenfaces vs. Fisherfaces: Recognition Using Class Specific Linear Projection"
      ]
    },
    {
      "cell_type": "markdown",
      "metadata": {
        "id": "A89o_WxpLnYq",
        "colab_type": "text"
      },
      "source": [
        "## Introduction\n",
        "Within the past few decades, there have been numerous pattern recognition techniques made available for use that cater for images with different variations, mainly lighting and facial poses. The paper not only discusses and compares three previously established methods, but also introduces a new method based on Fisher’s Linear Discriminant.  "
      ]
    },
    {
      "cell_type": "markdown",
      "metadata": {
        "id": "lyDA8a-zLotQ",
        "colab_type": "text"
      },
      "source": [
        "## Content\n",
        "\n",
        "The authors in the paper propose a new approach in which facial recognition is achieved despite the more extreme alterations made on the images. The new approach is successful if the given image is recognised in differing light intensities, light directions, number of light sources, facial expressions and eye wear. The proposed method is derived from Fisher’s Linear Discriminant (FLD), hence being named Fisherfaces method, and uses a combination of nearly orthogonal projection directions to maintain discriminability and maximising the ratio of between-class scatter matrices to the within-class scatter matrices. The method also benefits from two given observations which outline...\n",
        "\n",
        "Currently, there has been little success with pattern recognition methods and techniques that can produce a successful outcome from images that involve intense light variations. This paper delivers a comparison of three different pattern recognition methods (Correlation, Eigenfaces, and Linear Subspaces) against their own proposed method (Fisherfaces), as they aim recognise the images of people under extreme variations of light intensities and direction.\n"
      ]
    },
    {
      "cell_type": "markdown",
      "metadata": {
        "id": "xwJMfMoVLqkx",
        "colab_type": "text"
      },
      "source": [
        "## Innovation"
      ]
    },
    {
      "cell_type": "markdown",
      "metadata": {
        "id": "q8qhGEtdLrho",
        "colab_type": "text"
      },
      "source": [
        "## Technical Quality\n",
        "The technical development in the paper is of high quality.\n",
        "\n",
        "The authors supported their method through a number of experiments that were carried out between the four pattern recognition methods using two databases. The first database from the Harvard Robotics Laboratory contained images of varied lighting, whilst the second database from Yale contained images with a variation in both lighting and facial expressions. Each subset of images contains a varied number of images, camera axis angles, light directions and light sources. To ensure consistency between each experiment, several variables were kept constant. These variables included; a nearest neighbour classification, all training images were projected into the features space, and all images excluded the contour of the head and were cropped appropriately. Extra cosideration was taken when testing the Correlation and Eigenface methods, ensuring that they contained normalised images with a zero mean and unit variance. The additional cleaning on the two methods may be seen as a slight bias by some, as the data for these methods were altered to improve the overall performance against the other two methods. \n"
      ]
    },
    {
      "cell_type": "markdown",
      "metadata": {
        "id": "0_wFWG4_Lszf",
        "colab_type": "text"
      },
      "source": [
        "## Application and X-factor\n",
        "I find the proposed Fisherface method promising within the field of pattern recognition. In using a lower dimensional feature speace, variation in light intensity and direction reduces the error rate, which has the opportunity to be successfully used in real-world situations.\n",
        "\n",
        "The proposed method, Fisherfaces, could be of benefit in other domains. As the method focuses on the light intensity, naturally created shadows, and fixed poses within the given image to recognise a face, these similar techniques can be used for vehicle plate recognition. The vehicle registration plates are in a rectangular shape, have a 6-character combination of 36 alpha-numeric characters, and are often displayed in the lower half of the front of the car. In recognising the registration plate, it could be determined whether the vehicle is currently registered or not. This could be taken further and linked with speed cameras; quickly capturing and recognising the prosecutor's registration plate in which a fine will be allocated to the driver.\n",
        "\n",
        "One suggestion for further development of this method would involve successful pattern recognition on faces with a larger variety of facial poses and angles. It is highlighted that the proposed method is experimented with a limited amount of varied facial poses, therefore making it apparent that a larger variety of facial poses should be used in next step for further developing this method. Additionally, the angle at which the image was taken could be varied as well, to replicate more real-world situations and expand the training set and capabilities of the proposed method.\n"
      ]
    },
    {
      "cell_type": "markdown",
      "metadata": {
        "id": "KcC8pZNoLuv4",
        "colab_type": "text"
      },
      "source": [
        "## Presentation\n",
        "The overall structure of the paper was clear. The sections were divided into appropriate sections and headings, helping to create a flow in the paper similar to that of one's thinking process. As a variety of well-known and alternate methods were discussed throughout the paper, the authors clearly stated what the given method was, how it would achieve the end goal, as well as any significant benefits or disadvantages made apparent. The paper, however, did require additional research as several algorithms and acronyms were used throughout to convey how the final method was achieved. This may make it difficult for an individual who is new to machine learning or pattern recognition to grasp the concept of the methods within the paper, however the acronyms used are commonly used and can be understood clearly if researched further. An attractive point in the paper included the use of a variety of images, tables and algorithms to help convey the stated arguments. In using multiple mediums, the reader was able to grasp a better understanding of what was being discussed. "
      ]
    },
    {
      "cell_type": "markdown",
      "metadata": {
        "id": "npwqEqmSLwYd",
        "colab_type": "text"
      },
      "source": [
        "## References\n",
        "\n",
        "Belhumeur, P.N., Hespanha, J.P. & Kriegman, D.J. 1997, 'Eigenfaces vs. Fisherfaces: Recognition Using Class Specific Linear Projection', *IEEE Transactions on Pattern Analysis and Machine Intelligence*, vol. 19, no.7, pp. 711-720.\n",
        "\n",
        "Park, J., Park, H. & Park, J. 2017, 'Distributed eigenfaces for massive face image data', *Multimedia Tools and Applications*, vol. 76, no. 24, pp.25983-25998.\n",
        "\n",
        "Vijaya Kumar, B., Savvides, M. & Xie, C. 2006, 'Correlation Pattern Recognition for Face Recognition', *Proceedings of the IEEE*, vol. 94, no. 11, pp. 1963-1976."
      ]
    },
    {
      "cell_type": "markdown",
      "metadata": {
        "id": "oM9Avm6UdEch",
        "colab_type": "text"
      },
      "source": [
        "##Appendix\n",
        "\n",
        "####GitHub Repository:\n",
        "https://github.com/jmanning21/31005_MachineLearning_Python/blob/master/12875795_Machine_Learning_Assignment_1.ipynb"
      ]
    }
  ]
}